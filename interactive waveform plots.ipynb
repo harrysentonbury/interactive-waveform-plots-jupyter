{
 "cells": [
  {
   "cell_type": "markdown",
   "metadata": {},
   "source": [
    "# Plot Waveform Functions With Interactive Variables\n",
    "\n",
    "Sometimes it is helpful to see what your waveforms look like or what numpy arrays look like when varying variable parameters.\n"
   ]
  },
  {
   "cell_type": "code",
   "execution_count": 1,
   "metadata": {},
   "outputs": [],
   "source": [
    "from ipywidgets import *"
   ]
  },
  {
   "cell_type": "code",
   "execution_count": 2,
   "metadata": {},
   "outputs": [],
   "source": [
    "import numpy as np\n",
    "import matplotlib.pyplot as plt"
   ]
  },
  {
   "cell_type": "code",
   "execution_count": 3,
   "metadata": {},
   "outputs": [],
   "source": [
    "def sin_of(h):\n",
    "    print(f'sin(h) = {np.sin(h):4.3f}')"
   ]
  },
  {
   "cell_type": "markdown",
   "metadata": {},
   "source": [
    "The 'f' string above formats the float to 4 digits to 3 decimal places with the  **:4.3**\n",
    "\n",
    "**interact(function, variable = (its range as a tuple))** use *help(interactive)* for shed load of info on this class.\n",
    "\n",
    "More than one variable can be used **interact(function, variable1 = (its range as a tuple), variable2 = (its range as a tuple))** etc."
   ]
  },
  {
   "cell_type": "code",
   "execution_count": 4,
   "metadata": {},
   "outputs": [
    {
     "data": {
      "application/vnd.jupyter.widget-view+json": {
       "model_id": "bb241f91fe3043699be356d5ee41c166",
       "version_major": 2,
       "version_minor": 0
      },
      "text/plain": [
       "interactive(children=(FloatSlider(value=3.141592653589793, description='h', max=6.283185307179586), Output()),…"
      ]
     },
     "metadata": {},
     "output_type": "display_data"
    },
    {
     "data": {
      "text/plain": [
       "<function __main__.sin_of(h)>"
      ]
     },
     "execution_count": 4,
     "metadata": {},
     "output_type": "execute_result"
    }
   ],
   "source": [
    "interact(sin_of, h = (0, 2 * np.pi))"
   ]
  },
  {
   "cell_type": "markdown",
   "metadata": {},
   "source": [
    "Assign sample_rate, duration and the x array (time) the usual way. \n",
    "Create the figure inside the function."
   ]
  },
  {
   "cell_type": "code",
   "execution_count": 22,
   "metadata": {},
   "outputs": [],
   "source": [
    "sample_rate = 1000   # smaller sample_rate = less work for my antiquated cpu.\n",
    "duration = 1\n",
    "\n",
    "\n",
    "def sin_func(freq_0):\n",
    "    plt.figure()\n",
    "    plt.plot(np.sin(x * freq_0))\n",
    "    plt.show()\n",
    "    \n",
    "\n",
    "x = np.linspace(0, 2 * np.pi * duration, int(duration * sample_rate))\n"
   ]
  },
  {
   "cell_type": "markdown",
   "metadata": {},
   "source": [
    "Create an interactive() object."
   ]
  },
  {
   "cell_type": "code",
   "execution_count": 7,
   "metadata": {},
   "outputs": [
    {
     "data": {
      "application/vnd.jupyter.widget-view+json": {
       "model_id": "5306f5e3f1d34eac913d1de67c07b097",
       "version_major": 2,
       "version_minor": 0
      },
      "text/plain": [
       "interactive(children=(IntSlider(value=5, description='freq_0', max=10, min=1), Output()), _dom_classes=('widge…"
      ]
     },
     "metadata": {},
     "output_type": "display_data"
    }
   ],
   "source": [
    "interactive_sine_wave = interactive(sin_func, freq_0=(1, 10))\n",
    "interactive_sine_wave"
   ]
  },
  {
   "cell_type": "markdown",
   "metadata": {},
   "source": [
    "## See how to shape numpy logspace arrays to your needs"
   ]
  },
  {
   "cell_type": "code",
   "execution_count": 44,
   "metadata": {},
   "outputs": [],
   "source": [
    "def logspace_func(start, base):\n",
    "    ramp = np.logspace(start, 1, sample_rate, base=base) / base\n",
    "    plt.figure()\n",
    "    plt.plot(ramp)\n",
    "    plt.show()"
   ]
  },
  {
   "cell_type": "code",
   "execution_count": 45,
   "metadata": {},
   "outputs": [
    {
     "data": {
      "application/vnd.jupyter.widget-view+json": {
       "model_id": "03c8b342777f42a48f68ec11a17e46c5",
       "version_major": 2,
       "version_minor": 0
      },
      "text/plain": [
       "interactive(children=(IntSlider(value=-2, description='start', max=0, min=-3), IntSlider(value=11, description…"
      ]
     },
     "metadata": {},
     "output_type": "display_data"
    }
   ],
   "source": [
    "interactive_logspace = interactive(logspace_func, start=(-3, 0), base=(2, 20))\n",
    "interactive_logspace"
   ]
  },
  {
   "cell_type": "markdown",
   "metadata": {},
   "source": [
    "## Frequency Modulation\n",
    "\n",
    "We've got the carrier frequency (freq_0), the modulator frequency (freq_1) and modulator amplitude (mod_amp)."
   ]
  },
  {
   "cell_type": "code",
   "execution_count": 42,
   "metadata": {},
   "outputs": [],
   "source": [
    "def fm_func(freq_0, freq_1, mod_amp):\n",
    "    fm = np.sin(x * freq_0 + (np.sin(x * freq_1) * mod_amp))\n",
    "    plt.figure(figsize=(14, 4))\n",
    "    plt.plot(fm, linewidth=2)\n",
    "    plt.show()\n",
    "    "
   ]
  },
  {
   "cell_type": "code",
   "execution_count": 47,
   "metadata": {},
   "outputs": [
    {
     "data": {
      "application/vnd.jupyter.widget-view+json": {
       "model_id": "0767133fb02d4675bb62c444945ea0e1",
       "version_major": 2,
       "version_minor": 0
      },
      "text/plain": [
       "interactive(children=(IntSlider(value=20, description='freq_0', max=30, min=10), IntSlider(value=5, descriptio…"
      ]
     },
     "metadata": {},
     "output_type": "display_data"
    }
   ],
   "source": [
    "interactive_fm = interactive(fm_func, freq_0=(10, 30), freq_1=(1, 10), mod_amp=(1.0, 5.0))\n",
    "interactive_fm"
   ]
  },
  {
   "cell_type": "markdown",
   "metadata": {},
   "source": [
    "## Frequency Modulation With Some Ramp Multiplying The Modulator\n",
    "\n",
    "Oh yes. Have it!"
   ]
  },
  {
   "cell_type": "code",
   "execution_count": 37,
   "metadata": {},
   "outputs": [],
   "source": [
    "def fm_ramp_func(freq_0, freq_1, base):\n",
    "    ramp_0 = np.logspace(1, -1, int(duration * sample_rate), base=base)\n",
    "    y = np.sin(x * freq_0 + ramp_0 * np.sin(x * freq_1))\n",
    "    plt.figure(figsize=(14, 4))\n",
    "    plt.plot(y)\n",
    "    plt.show()\n"
   ]
  },
  {
   "cell_type": "code",
   "execution_count": 41,
   "metadata": {},
   "outputs": [
    {
     "data": {
      "application/vnd.jupyter.widget-view+json": {
       "model_id": "9a3930c069a044ac938a819fba1cf02a",
       "version_major": 2,
       "version_minor": 0
      },
      "text/plain": [
       "interactive(children=(IntSlider(value=20, description='freq_0', max=30, min=10), IntSlider(value=5, descriptio…"
      ]
     },
     "metadata": {},
     "output_type": "display_data"
    }
   ],
   "source": [
    "interactive_thingy = interactive(fm_ramp_func, freq_0=(10, 30), freq_1=(1, 10), base=(2, 10))\n",
    "interactive_thingy"
   ]
  },
  {
   "cell_type": "markdown",
   "metadata": {},
   "source": [
    "## Sigmoid funtions\n",
    "\n",
    "I was curious."
   ]
  },
  {
   "cell_type": "code",
   "execution_count": 14,
   "metadata": {},
   "outputs": [],
   "source": [
    "def sigmoid(start, stop):\n",
    "    plt.figure()\n",
    "    sigx = np.linspace(start, stop, num=int(duration * sample_rate))\n",
    "    sigm = 1 / (1 + np.exp(sigx))\n",
    "    plt.plot(sigm)\n",
    "    plt.show()"
   ]
  },
  {
   "cell_type": "code",
   "execution_count": 15,
   "metadata": {},
   "outputs": [
    {
     "data": {
      "application/vnd.jupyter.widget-view+json": {
       "model_id": "b192b3706a814ee1932e6f9ad7dbd175",
       "version_major": 2,
       "version_minor": 0
      },
      "text/plain": [
       "interactive(children=(IntSlider(value=-5, description='start', max=0, min=-10), IntSlider(value=5, description…"
      ]
     },
     "metadata": {},
     "output_type": "display_data"
    }
   ],
   "source": [
    "interactive_sigmoid = interactive(sigmoid, start=(-10, 0), stop=(0, 10))\n",
    "interactive_sigmoid"
   ]
  },
  {
   "cell_type": "markdown",
   "metadata": {},
   "source": [
    "## Lissajous figures\n",
    "\n",
    "Both x and y axis are sinewaves. Or in this case y0 and y1. The frequency ratio will be the same as the number\n",
    "of loops you can count on each axis.\n",
    "\n",
    "Check what happens with phase."
   ]
  },
  {
   "cell_type": "code",
   "execution_count": 48,
   "metadata": {},
   "outputs": [],
   "source": [
    "def lissajous(freq_x, freq_y, phase):\n",
    "    y0 = np.sin((x * freq_x / 10) + phase)\n",
    "    y1 = np.sin(x * freq_y / 10)\n",
    "    plt.figure(figsize=(7, 7))\n",
    "    plt.plot(y0, y1)\n",
    "    plt.show()\n",
    "    "
   ]
  },
  {
   "cell_type": "code",
   "execution_count": 49,
   "metadata": {},
   "outputs": [
    {
     "data": {
      "application/vnd.jupyter.widget-view+json": {
       "model_id": "83fe20a29f9c48faafe5cda36d3ff6d9",
       "version_major": 2,
       "version_minor": 0
      },
      "text/plain": [
       "interactive(children=(IntSlider(value=25, description='freq_x', max=50), IntSlider(value=25, description='freq…"
      ]
     },
     "metadata": {},
     "output_type": "display_data"
    }
   ],
   "source": [
    "interactive_lissajous = interactive(lissajous, freq_x=(0, 50), freq_y=(0, 50), phase=(0, np.pi))\n",
    "interactive_lissajous"
   ]
  },
  {
   "cell_type": "code",
   "execution_count": null,
   "metadata": {},
   "outputs": [],
   "source": []
  }
 ],
 "metadata": {
  "kernelspec": {
   "display_name": "Python 3",
   "language": "python",
   "name": "python3"
  },
  "language_info": {
   "codemirror_mode": {
    "name": "ipython",
    "version": 3
   },
   "file_extension": ".py",
   "mimetype": "text/x-python",
   "name": "python",
   "nbconvert_exporter": "python",
   "pygments_lexer": "ipython3",
   "version": "3.7.3"
  }
 },
 "nbformat": 4,
 "nbformat_minor": 4
}
