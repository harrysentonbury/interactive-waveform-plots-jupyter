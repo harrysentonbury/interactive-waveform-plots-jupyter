{
 "cells": [
  {
   "cell_type": "markdown",
   "metadata": {},
   "source": [
    "# Plot Waveform Functions With Interactive Variables\n",
    "\n",
    "Sometimes it is helpful to see what your waveforms look like or what numpy arrays look like when varying variable args.\n",
    "*Did that just make sense? No one cares, no ones gives a crap about intro's.*"
   ]
  },
  {
   "cell_type": "code",
   "execution_count": 1,
   "metadata": {},
   "outputs": [],
   "source": [
    "from ipywidgets import *"
   ]
  },
  {
   "cell_type": "code",
   "execution_count": 2,
   "metadata": {},
   "outputs": [],
   "source": [
    "import numpy as np\n",
    "import matplotlib.pyplot as plt"
   ]
  },
  {
   "cell_type": "code",
   "execution_count": 5,
   "metadata": {},
   "outputs": [],
   "source": [
    "def sin_of(h):\n",
    "    print(f'sin(h) = {np.sin(h):4.3f}')"
   ]
  },
  {
   "cell_type": "markdown",
   "metadata": {},
   "source": [
    "The 'f' string above formats the float to 4 digits to 3 decimal places with the  **:4.3**\n",
    "\n",
    "**interact(function, variable = (its range as a tuple))** use *help(interactive)* for shed load of info on this class.\n",
    "\n",
    "More than one vatiable can be used **interact(function, variable1 = (its range as a tuple), variable2 = (its range as a tuple))** etc."
   ]
  },
  {
   "cell_type": "code",
   "execution_count": 6,
   "metadata": {},
   "outputs": [
    {
     "data": {
      "application/vnd.jupyter.widget-view+json": {
       "model_id": "5ea01cf0201b4516958de640ca9249cb",
       "version_major": 2,
       "version_minor": 0
      },
      "text/plain": [
       "interactive(children=(FloatSlider(value=3.141592653589793, description='h', max=6.283185307179586), Output()),…"
      ]
     },
     "metadata": {},
     "output_type": "display_data"
    },
    {
     "data": {
      "text/plain": [
       "<function __main__.sin_of(h)>"
      ]
     },
     "execution_count": 6,
     "metadata": {},
     "output_type": "execute_result"
    }
   ],
   "source": [
    "interact(sin_of, h = (0, 2 * np.pi))"
   ]
  },
  {
   "cell_type": "markdown",
   "metadata": {},
   "source": [
    "Assign sample_rate, duration and the x array (time) the usual way. \n",
    "Create the figure inside the function."
   ]
  },
  {
   "cell_type": "code",
   "execution_count": 9,
   "metadata": {},
   "outputs": [],
   "source": [
    "sample_rate = 1000   # smaller sample_rate = less work for my antiquated cpu.\n",
    "duration = 1\n",
    "\n",
    "\n",
    "def sin_func(freq_0):\n",
    "    plt.figure()\n",
    "    plt.plot(np.sin(x * freq_0))\n",
    "    plt.show()\n",
    "    \n",
    "\n",
    "x = np.linspace(0, 2 * np.pi * duration, int(duration * sample_rate))\n"
   ]
  },
  {
   "cell_type": "markdown",
   "metadata": {},
   "source": [
    "Create an interactive() object."
   ]
  },
  {
   "cell_type": "code",
   "execution_count": 11,
   "metadata": {},
   "outputs": [
    {
     "data": {
      "application/vnd.jupyter.widget-view+json": {
       "model_id": "bfa2601cc894488e9e16f99727ae8b8d",
       "version_major": 2,
       "version_minor": 0
      },
      "text/plain": [
       "interactive(children=(IntSlider(value=5, description='freq_0', max=10, min=1), Output()), _dom_classes=('widge…"
      ]
     },
     "metadata": {},
     "output_type": "display_data"
    }
   ],
   "source": [
    "interactive_sine_wave = interactive(sin_func, freq_0=(1, 10))\n",
    "interactive_sine_wave"
   ]
  },
  {
   "cell_type": "markdown",
   "metadata": {},
   "source": [
    "## See how to shape numpy logspace arrays to your needs"
   ]
  },
  {
   "cell_type": "code",
   "execution_count": 12,
   "metadata": {},
   "outputs": [],
   "source": [
    "def logspace_func(start, base):\n",
    "    plt.figure()\n",
    "    ramp = np.logspace(start, 1, sample_rate, base=base) / base\n",
    "    plt.plot(ramp)\n",
    "    plt.show()"
   ]
  },
  {
   "cell_type": "code",
   "execution_count": 13,
   "metadata": {},
   "outputs": [
    {
     "data": {
      "application/vnd.jupyter.widget-view+json": {
       "model_id": "4b8c7faf296e4163827fce347257300e",
       "version_major": 2,
       "version_minor": 0
      },
      "text/plain": [
       "interactive(children=(IntSlider(value=-2, description='start', max=0, min=-3), IntSlider(value=11, description…"
      ]
     },
     "metadata": {},
     "output_type": "display_data"
    }
   ],
   "source": [
    "interactive_logspace = interactive(logspace_func, start=(-3, 0), base=(2, 20))\n",
    "interactive_logspace"
   ]
  },
  {
   "cell_type": "code",
   "execution_count": null,
   "metadata": {},
   "outputs": [],
   "source": [
    "from ipywidgets import *"
   ]
  },
  {
   "cell_type": "code",
   "execution_count": 31,
   "metadata": {},
   "outputs": [],
   "source": [
    "def fm_func(freq_0, freq_1):\n",
    "    plt.figure(figsize=(14, 4))\n",
    "    fm = np.sin(x * freq_0 + np.sin(x * freq_1))\n",
    "    plt.plot(fm, linewidth=4)\n",
    "    plt.show()\n",
    "    "
   ]
  },
  {
   "cell_type": "code",
   "execution_count": 32,
   "metadata": {},
   "outputs": [
    {
     "data": {
      "application/vnd.jupyter.widget-view+json": {
       "model_id": "185aadf4798b4472a9a1cc34397aa3c7",
       "version_major": 2,
       "version_minor": 0
      },
      "text/plain": [
       "interactive(children=(IntSlider(value=12, description='freq_0', max=20, min=5), IntSlider(value=3, description…"
      ]
     },
     "metadata": {},
     "output_type": "display_data"
    }
   ],
   "source": [
    "interactive_fm = interactive(fm_func, freq_0=(5, 20), freq_1=(1, 5))\n",
    "interactive_fm"
   ]
  },
  {
   "cell_type": "markdown",
   "metadata": {},
   "source": [
    "## Sigmoid funtions\n",
    "\n",
    "I was curious."
   ]
  },
  {
   "cell_type": "code",
   "execution_count": 37,
   "metadata": {},
   "outputs": [],
   "source": [
    "def sigmoid(start, stop):\n",
    "    plt.figure()\n",
    "    sigx = np.linspace(start, stop, num=int(duration * sample_rate))\n",
    "    sigm = 1 / (1 + np.exp(sigx))\n",
    "    plt.plot(sigm)\n",
    "    plt.show()"
   ]
  },
  {
   "cell_type": "code",
   "execution_count": 38,
   "metadata": {},
   "outputs": [
    {
     "data": {
      "application/vnd.jupyter.widget-view+json": {
       "model_id": "aa5e580250634fbfb4da9aeae9059c2f",
       "version_major": 2,
       "version_minor": 0
      },
      "text/plain": [
       "interactive(children=(IntSlider(value=-5, description='start', max=0, min=-10), IntSlider(value=5, description…"
      ]
     },
     "metadata": {},
     "output_type": "display_data"
    }
   ],
   "source": [
    "interactive_sigmoid = interactive(sigmoid, start=(-10, 0), stop=(0, 10))\n",
    "interactive_sigmoid"
   ]
  },
  {
   "cell_type": "code",
   "execution_count": null,
   "metadata": {},
   "outputs": [],
   "source": []
  }
 ],
 "metadata": {
  "kernelspec": {
   "display_name": "Python 3",
   "language": "python",
   "name": "python3"
  },
  "language_info": {
   "codemirror_mode": {
    "name": "ipython",
    "version": 3
   },
   "file_extension": ".py",
   "mimetype": "text/x-python",
   "name": "python",
   "nbconvert_exporter": "python",
   "pygments_lexer": "ipython3",
   "version": "3.7.3"
  }
 },
 "nbformat": 4,
 "nbformat_minor": 4
}
